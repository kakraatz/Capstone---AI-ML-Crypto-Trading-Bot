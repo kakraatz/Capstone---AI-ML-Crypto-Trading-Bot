{
 "cells": [
  {
   "cell_type": "code",
   "execution_count": 112,
   "id": "b9d6bd1e",
   "metadata": {},
   "outputs": [],
   "source": [
    "# Data Management\n",
    "import pandas as pd\n",
    "import numpy as np\n",
    "\n",
    "# Reporting\n",
    "import matplotlib.pyplot as plt\n",
    "\n",
    "# Formatting\n",
    "import json\n",
    "import requests\n",
    "import datetime"
   ]
  },
  {
   "cell_type": "markdown",
   "id": "dbf80b00",
   "metadata": {},
   "source": [
    "# SentiCrypt Data Stream"
   ]
  },
  {
   "cell_type": "code",
   "execution_count": 113,
   "id": "a73dbe51",
   "metadata": {},
   "outputs": [],
   "source": [
    "# https://senticrypt.com/docs.html\n",
    "# API Request\n",
    "start_date = datetime.datetime(2020, 6, 1, 0)\n",
    "end_date = datetime.datetime(2020, 6, 7, 23)\n",
    "delta = datetime.timedelta(hours=1)\n",
    "dates = []\n",
    "means = []\n",
    "counts = []\n",
    "while start_date <= end_date:\n",
    "    format_date = str(start_date.strftime('%Y-%m-%d'))\n",
    "    url = 'http://api.senticrypt.com/v1/history/bitcoin-' + str(start_date.strftime('%Y-%m-%d_%H')) + '.json'\n",
    "    req = requests.get(url)\n",
    "    if req.status_code == 200:\n",
    "        data = json.loads(req.text)\n",
    "    else:\n",
    "        dates.append(None)\n",
    "        means.append(None)\n",
    "        counts.append(None)\n",
    "        continue\n",
    "    if format_date not in dates:\n",
    "        dates.append(format_date)\n",
    "    means.append(data[0]['mean'])\n",
    "    counts.append(data[0]['count'])\n",
    "    start_date += delta"
   ]
  },
  {
   "cell_type": "markdown",
   "id": "5cea9b0b",
   "metadata": {},
   "source": [
    "# Daily Sentiment Extraction"
   ]
  },
  {
   "cell_type": "code",
   "execution_count": 115,
   "id": "46b14fc1",
   "metadata": {},
   "outputs": [
    {
     "data": {
      "text/html": [
       "<div>\n",
       "<style scoped>\n",
       "    .dataframe tbody tr th:only-of-type {\n",
       "        vertical-align: middle;\n",
       "    }\n",
       "\n",
       "    .dataframe tbody tr th {\n",
       "        vertical-align: top;\n",
       "    }\n",
       "\n",
       "    .dataframe thead th {\n",
       "        text-align: right;\n",
       "    }\n",
       "</style>\n",
       "<table border=\"1\" class=\"dataframe\">\n",
       "  <thead>\n",
       "    <tr style=\"text-align: right;\">\n",
       "      <th></th>\n",
       "      <th>Average Sentiment Score</th>\n",
       "      <th>Average Data Count</th>\n",
       "    </tr>\n",
       "    <tr>\n",
       "      <th>Date</th>\n",
       "      <th></th>\n",
       "      <th></th>\n",
       "    </tr>\n",
       "  </thead>\n",
       "  <tbody>\n",
       "    <tr>\n",
       "      <th>2020-06-01</th>\n",
       "      <td>0.245417</td>\n",
       "      <td>1998.083333</td>\n",
       "    </tr>\n",
       "    <tr>\n",
       "      <th>2020-06-02</th>\n",
       "      <td>0.200417</td>\n",
       "      <td>2201.958333</td>\n",
       "    </tr>\n",
       "    <tr>\n",
       "      <th>2020-06-03</th>\n",
       "      <td>0.183333</td>\n",
       "      <td>2631.250000</td>\n",
       "    </tr>\n",
       "    <tr>\n",
       "      <th>2020-06-04</th>\n",
       "      <td>0.217917</td>\n",
       "      <td>2219.208333</td>\n",
       "    </tr>\n",
       "    <tr>\n",
       "      <th>2020-06-05</th>\n",
       "      <td>0.222500</td>\n",
       "      <td>2233.583333</td>\n",
       "    </tr>\n",
       "  </tbody>\n",
       "</table>\n",
       "</div>"
      ],
      "text/plain": [
       "            Average Sentiment Score  Average Data Count\n",
       "Date                                                   \n",
       "2020-06-01                 0.245417         1998.083333\n",
       "2020-06-02                 0.200417         2201.958333\n",
       "2020-06-03                 0.183333         2631.250000\n",
       "2020-06-04                 0.217917         2219.208333\n",
       "2020-06-05                 0.222500         2233.583333"
      ]
     },
     "execution_count": 115,
     "metadata": {},
     "output_type": "execute_result"
    }
   ],
   "source": [
    "means_sum = [sum(i) for i in zip(*([iter(means)]*24))]\n",
    "daily_sentiment_average = []\n",
    "counts_sum = [sum(i) for i in zip(*([iter(counts)]*24))]\n",
    "daily_counts_average = []\n",
    "for i in means_sum:\n",
    "    daily_sentiment_average.append(i / 24)\n",
    "for i in counts_sum:\n",
    "    daily_counts_average.append(i / 24)\n",
    "collection = zip(dates, daily_sentiment_average, daily_counts_average)\n",
    "df = pd.DataFrame(collection, columns=['Date', 'Average Sentiment Score', 'Average Data Count'])\n",
    "df = df.set_index('Date')\n",
    "df.head()"
   ]
  },
  {
   "cell_type": "code",
   "execution_count": null,
   "id": "0a34889a",
   "metadata": {},
   "outputs": [],
   "source": []
  },
  {
   "cell_type": "code",
   "execution_count": null,
   "id": "f41b1d00",
   "metadata": {},
   "outputs": [],
   "source": []
  },
  {
   "cell_type": "code",
   "execution_count": null,
   "id": "8ff83a4b",
   "metadata": {},
   "outputs": [],
   "source": []
  },
  {
   "cell_type": "code",
   "execution_count": null,
   "id": "91b427ab",
   "metadata": {},
   "outputs": [],
   "source": []
  },
  {
   "cell_type": "code",
   "execution_count": null,
   "id": "d2b617e6",
   "metadata": {},
   "outputs": [],
   "source": []
  }
 ],
 "metadata": {
  "kernelspec": {
   "display_name": "Python 3 (ipykernel)",
   "language": "python",
   "name": "python3"
  },
  "language_info": {
   "codemirror_mode": {
    "name": "ipython",
    "version": 3
   },
   "file_extension": ".py",
   "mimetype": "text/x-python",
   "name": "python",
   "nbconvert_exporter": "python",
   "pygments_lexer": "ipython3",
   "version": "3.9.16"
  }
 },
 "nbformat": 4,
 "nbformat_minor": 5
}
