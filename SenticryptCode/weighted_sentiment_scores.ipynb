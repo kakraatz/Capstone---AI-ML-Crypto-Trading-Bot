{
 "cells": [
  {
   "cell_type": "code",
   "execution_count": 6,
   "id": "15f32ee8",
   "metadata": {},
   "outputs": [],
   "source": [
    "# Data Management\n",
    "import pandas as pd\n",
    "import numpy as np\n",
    "\n",
    "# Reporting\n",
    "import matplotlib.pyplot as plt\n",
    "\n",
    "# Formatting\n",
    "import json\n",
    "import datetime as dt"
   ]
  },
  {
   "cell_type": "code",
   "execution_count": 8,
   "id": "b6d77740",
   "metadata": {},
   "outputs": [
    {
     "name": "stdout",
     "output_type": "stream",
     "text": [
      "            Sentiment Score (Weighted Mean)\n",
      "Date                                       \n",
      "2020-06-01                         0.205507\n",
      "2020-06-02                         0.181423\n",
      "2020-06-03                         0.224390\n",
      "2020-06-04                         0.224576\n",
      "2020-06-05                         0.240114\n",
      "...                                     ...\n",
      "2023-02-06                         0.225897\n",
      "2023-02-07                         0.243800\n",
      "2023-02-08                         0.241560\n",
      "2023-02-09                         0.222769\n",
      "2023-02-10                         0.229088\n",
      "\n",
      "[985 rows x 1 columns]\n"
     ]
    }
   ],
   "source": [
    "dates = []\n",
    "weighted_means = []\n",
    "\n",
    "start_date = dt.datetime(2020, 6, 1)\n",
    "end_date = dt.datetime(2023, 2, 10)\n",
    "delta = dt.timedelta(days=1)\n",
    "\n",
    "while start_date <= end_date:\n",
    "    date = str(start_date.strftime('%Y-%m-%d'))\n",
    "    file = f'{date}.json'\n",
    "    means = []\n",
    "    counts = []\n",
    "    weights = []\n",
    "    weighted_values = []\n",
    "\n",
    "    if date not in dates:\n",
    "        dates.append(date)\n",
    "\n",
    "    f = open(file)\n",
    "    data = json.load(f)\n",
    "\n",
    "    for i in range(len(data)):\n",
    "        means.append(data[i]['mean'])\n",
    "        counts.append(data[i]['count'])\n",
    "\n",
    "    f.close()\n",
    "\n",
    "    for i in counts:\n",
    "        weights.append((i / sum(counts)))\n",
    "\n",
    "    for i in range(len(means)):\n",
    "        weighted_values.append(means[i] * weights[i])\n",
    "\n",
    "    weighted_means.append(sum(weighted_values))\n",
    "    means.clear()\n",
    "    counts.clear()\n",
    "    weights.clear()\n",
    "    weighted_values.clear()\n",
    "    start_date += delta\n",
    "\n",
    "result = zip(dates, weighted_means)\n",
    "df = pd.DataFrame(result, columns=['Date', 'Sentiment Score (Weighted Mean)'])\n",
    "df = df.set_index('Date')\n",
    "print(df)"
   ]
  },
  {
   "cell_type": "code",
   "execution_count": null,
   "id": "b43ee660",
   "metadata": {},
   "outputs": [],
   "source": []
  }
 ],
 "metadata": {
  "kernelspec": {
   "display_name": "Python 3 (ipykernel)",
   "language": "python",
   "name": "python3"
  },
  "language_info": {
   "codemirror_mode": {
    "name": "ipython",
    "version": 3
   },
   "file_extension": ".py",
   "mimetype": "text/x-python",
   "name": "python",
   "nbconvert_exporter": "python",
   "pygments_lexer": "ipython3",
   "version": "3.9.16"
  }
 },
 "nbformat": 4,
 "nbformat_minor": 5
}
